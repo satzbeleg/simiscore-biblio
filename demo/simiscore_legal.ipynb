{
  "nbformat": 4,
  "nbformat_minor": 0,
  "metadata": {
    "colab": {
      "name": "simiscore-legal.ipynb",
      "provenance": [],
      "collapsed_sections": []
    },
    "kernelspec": {
      "name": "python3",
      "display_name": "Python 3"
    },
    "language_info": {
      "name": "python"
    }
  },
  "cells": [
    {
      "cell_type": "markdown",
      "source": [
        "#Simiscore-legal\n",
        "### Comparison between 'sledgehammer' and elaborate (feature-based) approach"
      ],
      "metadata": {
        "id": "lOZWlKiO3Dca"
      }
    },
    {
      "cell_type": "code",
      "execution_count": 2,
      "metadata": {
        "id": "5h7XZzJL26z-"
      },
      "outputs": [],
      "source": [
        "# install required dependecies\n",
        "%%capture\n",
        "!pip install kshingle\n",
        "!pip install datasketch"
      ]
    },
    {
      "cell_type": "code",
      "source": [
        "from bs4 import BeautifulSoup\n",
        "from typing import List\n",
        "import datasketch\n",
        "import kshingle"
      ],
      "metadata": {
        "id": "ugaRt0wn8Hgn"
      },
      "execution_count": 3,
      "outputs": []
    },
    {
      "cell_type": "code",
      "source": [
        "# load example data \n",
        "!gdown --id 1UIRfK_5rMqm_s7ijXuzl7RQMWXQIJpYu\n",
        "\n",
        "with open('metadata.txt', 'r', encoding='utf-8') as ptr:\n",
        "    test_metadata = ptr.read()"
      ],
      "metadata": {
        "colab": {
          "base_uri": "https://localhost:8080/"
        },
        "id": "8CTmYNQ55Cy4",
        "outputId": "ad3dfe53-d9d8-473a-d7a2-39751256a80f"
      },
      "execution_count": 4,
      "outputs": [
        {
          "output_type": "stream",
          "name": "stdout",
          "text": [
            "Downloading...\n",
            "From: https://drive.google.com/uc?id=1UIRfK_5rMqm_s7ijXuzl7RQMWXQIJpYu\n",
            "To: /content/metadata.txt\n",
            "\r  0% 0.00/9.77k [00:00<?, ?B/s]\r100% 9.77k/9.77k [00:00<00:00, 19.3MB/s]\n"
          ]
        }
      ]
    },
    {
      "cell_type": "code",
      "source": [
        "metadata_soup = BeautifulSoup(test_metadata)"
      ],
      "metadata": {
        "id": "GoO5jhhJ6ufG"
      },
      "execution_count": 5,
      "outputs": []
    },
    {
      "cell_type": "code",
      "source": [
        "# load example data\n",
        "def extract_bibl_strings_from_file(html_doc:BeautifulSoup, only_text:bool=False) -> List[List[str]]:\n",
        "    if only_text:   \n",
        "        return [ ' '.join([entry.text for entry in  tag.contents if entry != '\\n']) for tag in html_doc.find_all('fundstelle')]\n",
        "    return [str(tag) for tag in html_doc.find_all('fundstelle')]"
      ],
      "metadata": {
        "id": "wFGuwoPv_SfW"
      },
      "execution_count": 6,
      "outputs": []
    },
    {
      "cell_type": "code",
      "source": [
        "# one-line bibliographic info is part of the multi-line data under the 'bibl' tag \n",
        "def extract_oneline_belege(html_doc:BeautifulSoup)-> List[str]:\n",
        "    return [tag.text for tag in html_doc.find_all('bibl')]"
      ],
      "metadata": {
        "id": "tevwxFx475Oh"
      },
      "execution_count": 7,
      "outputs": []
    },
    {
      "cell_type": "code",
      "source": [
        "metadata_oneliner = extract_oneline_belege(metadata_soup)"
      ],
      "metadata": {
        "id": "ygoqPrXyhBYe"
      },
      "execution_count": 8,
      "outputs": []
    },
    {
      "cell_type": "code",
      "source": [
        "beleg_list = extract_bibl_strings_from_file(metadata_soup, True)"
      ],
      "metadata": {
        "id": "nzd5k8qMAZee"
      },
      "execution_count": 9,
      "outputs": []
    },
    {
      "cell_type": "markdown",
      "source": [
        "# 1. 'Sledgehammer' approach:\n",
        "Treat bibliographic information as string, use k-shingle and minhashing to compute similarity scores."
      ],
      "metadata": {
        "id": "7IBhbleliVK_"
      }
    },
    {
      "cell_type": "code",
      "source": [
        "def sledgehammer_similarity_matrix(belege:List[str], max_k:int=5)-> List[List[float]]:\n",
        "    minhash_table = []\n",
        "    for bib_entry in belege:\n",
        "        shingle_set = kshingle.shingleset_k(bib_entry, max_k)\n",
        "        minhash = datasketch.MinHash(num_perm=256)\n",
        "        for shingle in shingle_set:\n",
        "            minhash.update(shingle.encode(\"utf-8\"))\n",
        "        minhash_table.append(minhash)\n",
        "    similarity_matrix = [\n",
        "                [\n",
        "                    minhash_table[i].jaccard(minhash_table[j])\n",
        "                    for j in range(len(minhash_table))\n",
        "                ]\n",
        "                for i in range(len(minhash_table))\n",
        "            ]\n",
        "    return similarity_matrix"
      ],
      "metadata": {
        "id": "OGhbOnFkhqum"
      },
      "execution_count": 9,
      "outputs": []
    },
    {
      "cell_type": "code",
      "source": [
        "# using long bibliographic information or one-line examples?  \n",
        "simi_scores_with_full_belege = sledgehammer_similarity_matrix(beleg_list)\n",
        "simi_scores_with_oneline_bibl = sledgehammer_similarity_matrix(metadata_oneliner)\n",
        "\n",
        "simi_scores_with_full_belege == simi_scores_with_oneline_bibl"
      ],
      "metadata": {
        "id": "5Y2zYvMAhqrz",
        "colab": {
          "base_uri": "https://localhost:8080/"
        },
        "outputId": "10b235b7-ecad-433d-82e3-346c7b17ef98"
      },
      "execution_count": 10,
      "outputs": [
        {
          "output_type": "execute_result",
          "data": {
            "text/plain": [
              "False"
            ]
          },
          "metadata": {},
          "execution_count": 10
        }
      ]
    },
    {
      "cell_type": "markdown",
      "source": [
        "# 2. Feature-based approach:\n"
      ],
      "metadata": {
        "id": "DjQUwL14kptq"
      }
    },
    {
      "cell_type": "code",
      "source": [
        "tag_names = {tag.name for tag in metadata_soup.find_all()}\n",
        "tag_names"
      ],
      "metadata": {
        "id": "FZQ2ZttAhqpZ",
        "colab": {
          "base_uri": "https://localhost:8080/"
        },
        "outputId": "e2d09e8a-0fa8-466d-9363-d14d3074d1c5"
      },
      "execution_count": 11,
      "outputs": [
        {
          "output_type": "execute_result",
          "data": {
            "text/plain": [
              "{'aufrufdatum',\n",
              " 'autor',\n",
              " 'beleg',\n",
              " 'belegtext',\n",
              " 'bibl',\n",
              " 'body',\n",
              " 'datum',\n",
              " 'dokument',\n",
              " 'fundstelle',\n",
              " 'html',\n",
              " 'korpus',\n",
              " 'seite',\n",
              " 'stichwort',\n",
              " 'textklasse',\n",
              " 'titel',\n",
              " 'url'}"
            ]
          },
          "metadata": {},
          "execution_count": 11
        }
      ]
    },
    {
      "cell_type": "code",
      "source": [
        "for tag in metadata_soup.find_all(['aufrufdatum', 'autor', 'datum', 'dokument', 'korpus', 'seite', 'textklasse', 'titel', 'url']):\n",
        "    print(tag, tag.text)"
      ],
      "metadata": {
        "id": "GyokQRuh9hjA"
      },
      "execution_count": null,
      "outputs": []
    },
    {
      "cell_type": "markdown",
      "source": [
        "to do:\n",
        "\n",
        "- urls parsen\n",
        "- hmtl tags aus bibliographischer Einträgen filtern > welche Tags gibt es?\n",
        "- Feature extrahieren\n"
      ],
      "metadata": {
        "id": "9HiOKSRbNaKk"
      }
    },
    {
      "cell_type": "code",
      "source": [
        "def extract_features_from_beleg(beleg, tags_to_extract):\n",
        "    beleg_soup = BeautifulSoup(beleg)\n",
        "    for tag in beleg_soup.find_all(tags_to_extract):\n",
        "        yield (tag.name, tag.text)"
      ],
      "metadata": {
        "id": "b3RCfId2TcLG"
      },
      "execution_count": 17,
      "outputs": []
    },
    {
      "cell_type": "code",
      "source": [
        "dwds_tags = ['aufrufdatum', 'autor','datum','dokument', 'korpus', 'seite', 'textklasse', 'titel', 'url']"
      ],
      "metadata": {
        "id": "7yEZUdf_ZaBJ"
      },
      "execution_count": 24,
      "outputs": []
    }
  ]
}